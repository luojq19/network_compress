{
 "cells": [
  {
   "cell_type": "code",
   "execution_count": 1,
   "id": "9d397439",
   "metadata": {},
   "outputs": [
    {
     "data": {
      "application/vnd.jupyter.widget-view+json": {
       "model_id": "8ec6657a549a4b0e917534bcfb69b10c",
       "version_major": 2,
       "version_minor": 0
      },
      "text/plain": [
       "  0%|          | 0/9680 [00:00<?, ?it/s]"
      ]
     },
     "metadata": {},
     "output_type": "display_data"
    }
   ],
   "source": [
    "import os\n",
    "import numpy as np\n",
    "from tqdm.auto import tqdm\n",
    "\n",
    "data_dir = '../data/treeoflife.interactomes.max_cc.rw1000_adj'\n",
    "node_dir = '../data/treeoflife.interactomes.max_cc.rw1000_nodes'\n",
    "for file in tqdm(os.listdir(data_dir)):\n",
    "    if file.endswith('.npz'):\n",
    "        data = np.load(os.path.join(data_dir, file))\n",
    "        adj = data['adj']\n",
    "        assert len(adj) <= 1000, f'Graph {file} has more than 1,000 nodes: {len(adj)}'"
   ]
  },
  {
   "cell_type": "code",
   "execution_count": null,
   "id": "9cdbc9a9",
   "metadata": {},
   "outputs": [],
   "source": []
  }
 ],
 "metadata": {
  "kernelspec": {
   "display_name": "network",
   "language": "python",
   "name": "python3"
  },
  "language_info": {
   "codemirror_mode": {
    "name": "ipython",
    "version": 3
   },
   "file_extension": ".py",
   "mimetype": "text/x-python",
   "name": "python",
   "nbconvert_exporter": "python",
   "pygments_lexer": "ipython3",
   "version": "3.10.18"
  }
 },
 "nbformat": 4,
 "nbformat_minor": 5
}

{
 "cells": [
  {
   "cell_type": "code",
   "execution_count": 1,
   "id": "1248117e",
   "metadata": {},
   "outputs": [
    {
     "name": "stderr",
     "output_type": "stream",
     "text": [
      "100%|██████████| 1840/1840 [01:23<00:00, 22.05it/s] \n"
     ]
    },
    {
     "data": {
      "text/plain": [
       "(      filename  is_connected  largest_cc_nodes  total_nodes  largest_cc_ratio\n",
       " 0  1000569.npz         False                21          178          0.117978\n",
       " 1  1000570.npz         False               167          268          0.623134\n",
       " 2  1000588.npz         False               150          254          0.590551\n",
       " 3  1001530.npz         False               330          558          0.591398\n",
       " 4  1001585.npz         False              1007         1398          0.720315,\n",
       " '../data/interactomes_connectivity.tsv')"
      ]
     },
     "execution_count": 1,
     "metadata": {},
     "output_type": "execute_result"
    }
   ],
   "source": [
    "import os, glob\n",
    "import numpy as np\n",
    "import pandas as pd\n",
    "import networkx as nx\n",
    "from tqdm.auto import tqdm\n",
    "\n",
    "root = \"../data/treeoflife.interactomes_adj\"\n",
    "out_path = \"../data/interactomes_connectivity.tsv\"\n",
    "\n",
    "def to_undirected_graph_from_dense(adj: np.ndarray) -> nx.Graph:\n",
    "    \"\"\"将稠密邻接矩阵转为无向图：去自环、按 (A>0)|(A.T>0) 无向化。\"\"\"\n",
    "    A = np.array(adj, copy=True)\n",
    "    if A.ndim != 2 or A.shape[0] != A.shape[1]:\n",
    "        raise ValueError(f\"adj must be a square 2D array, got shape {A.shape}\")\n",
    "    np.fill_diagonal(A, 0)\n",
    "    A_und = (A > 0) | (A.T > 0)\n",
    "    return nx.from_numpy_array(A_und.astype(np.int8), create_using=nx.Graph)\n",
    "\n",
    "def analyze_graph(G: nx.Graph):\n",
    "    \"\"\"返回 (is_connected, n_lcc, n_total, ratio)。\"\"\"\n",
    "    n_total = G.number_of_nodes()\n",
    "    if n_total == 0:\n",
    "        return False, 0, 0, 0.0\n",
    "    if n_total == 1:\n",
    "        return True, 1, 1, 1.0\n",
    "    is_conn = nx.is_connected(G)\n",
    "    n_lcc = n_total if is_conn else max(len(c) for c in nx.connected_components(G))\n",
    "    return is_conn, n_lcc, n_total, (n_lcc / n_total)\n",
    "\n",
    "rows = []\n",
    "files = sorted(glob.glob(os.path.join(root, \"**\", \"*.npz\"), recursive=True))\n",
    "\n",
    "for f in tqdm(files):\n",
    "    try:\n",
    "        adj = np.load(f, allow_pickle=False)[\"adj\"]\n",
    "        G = to_undirected_graph_from_dense(adj)\n",
    "        is_conn, n_lcc, n_total, ratio = analyze_graph(G)\n",
    "        rows.append([\n",
    "            os.path.basename(f),\n",
    "            is_conn,\n",
    "            n_lcc,\n",
    "            n_total,\n",
    "            ratio,\n",
    "        ])\n",
    "    except Exception as e:\n",
    "        # 出错也记录一行，方便排查\n",
    "        rows.append([os.path.relpath(f, root), None, None, None, None])\n",
    "        print(f\"[WARN] {f}: {e}\")\n",
    "\n",
    "df = pd.DataFrame(\n",
    "    rows,\n",
    "    columns=[\"filename\", \"is_connected\", \"largest_cc_nodes\", \"total_nodes\", \"largest_cc_ratio\"]\n",
    ")\n",
    "\n",
    "# 保存 TSV\n",
    "os.makedirs(os.path.dirname(out_path), exist_ok=True)\n",
    "df.to_csv(out_path, sep=\"\\t\", index=False)\n",
    "\n",
    "# 在 notebook 里显示前几行\n",
    "df.head(), out_path\n"
   ]
  },
  {
   "cell_type": "code",
   "execution_count": null,
   "id": "f732a596",
   "metadata": {},
   "outputs": [],
   "source": []
  }
 ],
 "metadata": {
  "kernelspec": {
   "display_name": "network",
   "language": "python",
   "name": "python3"
  },
  "language_info": {
   "codemirror_mode": {
    "name": "ipython",
    "version": 3
   },
   "file_extension": ".py",
   "mimetype": "text/x-python",
   "name": "python",
   "nbconvert_exporter": "python",
   "pygments_lexer": "ipython3",
   "version": "3.10.18"
  }
 },
 "nbformat": 4,
 "nbformat_minor": 5
}

{
 "cells": [
  {
   "cell_type": "code",
   "execution_count": 1,
   "id": "ad3981ef",
   "metadata": {},
   "outputs": [
    {
     "name": "stdout",
     "output_type": "stream",
     "text": [
      "Found 1840 interactome files.\n"
     ]
    }
   ],
   "source": [
    "import os\n",
    "import networkx as nx\n",
    "import numpy as np\n",
    "import matplotlib.pyplot as plt\n",
    "\n",
    "data_dir = '../data/treeoflife.interactomes'\n",
    "interactome_list = []\n",
    "for file in os.listdir(data_dir):\n",
    "    if file.endswith('.txt'):\n",
    "        interactome_list.append(os.path.join(data_dir, file))\n",
    "print(f\"Found {len(interactome_list)} interactome files.\")"
   ]
  },
  {
   "cell_type": "code",
   "execution_count": null,
   "id": "bca5ba2c",
   "metadata": {},
   "outputs": [],
   "source": []
  }
 ],
 "metadata": {
  "kernelspec": {
   "display_name": "network",
   "language": "python",
   "name": "python3"
  },
  "language_info": {
   "codemirror_mode": {
    "name": "ipython",
    "version": 3
   },
   "file_extension": ".py",
   "mimetype": "text/x-python",
   "name": "python",
   "nbconvert_exporter": "python",
   "pygments_lexer": "ipython3",
   "version": "3.10.18"
  }
 },
 "nbformat": 4,
 "nbformat_minor": 5
}

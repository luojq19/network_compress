{
 "cells": [
  {
   "cell_type": "code",
   "execution_count": 1,
   "id": "21cbbd52",
   "metadata": {},
   "outputs": [],
   "source": [
    "import pandas as pd\n",
    "\n",
    "df_evolution = pd.read_csv('../data/treeoflife.species.evolution.tsv', sep='\\t')\n",
    "# Species_ID\tEvolution\tDomain\tTaxonomy_level2\n",
    "# 797210\t0.9260856891865041\tArchaea\tArchaea_Euryarchaeota\n",
    "species_id2evolution = dict(zip(df_evolution['Species_ID'], df_evolution['Evolution']))\n",
    "df_species = pd.read_csv('../data/treeoflife.species.tsv', sep='\\t')\n",
    "# Species_ID\tCompact_name\tOfficial_NCBI_name\n",
    "# 394\tSinorhizobium fredii NGR234\tSinorhizobium fredii NGR234\n",
    "df_species['Evolution'] = df_species['Species_ID'].map(species_id2evolution)\n",
    "df_species.to_csv('../data/treeoflife.species.evolution.new.tsv', sep='\\t', index=False)"
   ]
  },
  {
   "cell_type": "code",
   "execution_count": null,
   "id": "53774cc5",
   "metadata": {},
   "outputs": [],
   "source": []
  }
 ],
 "metadata": {
  "kernelspec": {
   "display_name": "network",
   "language": "python",
   "name": "python3"
  },
  "language_info": {
   "codemirror_mode": {
    "name": "ipython",
    "version": 3
   },
   "file_extension": ".py",
   "mimetype": "text/x-python",
   "name": "python",
   "nbconvert_exporter": "python",
   "pygments_lexer": "ipython3",
   "version": "3.10.18"
  }
 },
 "nbformat": 4,
 "nbformat_minor": 5
}

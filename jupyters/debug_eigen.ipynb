{
 "cells": [
  {
   "cell_type": "code",
   "execution_count": 5,
   "id": "e8755ad2",
   "metadata": {},
   "outputs": [],
   "source": [
    "from scipy.sparse.linalg import eigs\n",
    "import numpy as np\n",
    "\n",
    "data = np.load('../data/treeoflife.interactomes.max_cc_adj/7260.npz')\n",
    "adj = data['adj']\n",
    "degrees = np.sum(adj, axis=1, keepdims=True)\n",
    "trans_matrix = adj / degrees\n",
    "vals, vecs = eigs(trans_matrix, k=1, which='LR')"
   ]
  },
  {
   "cell_type": "code",
   "execution_count": 1,
   "id": "5ea14ffb",
   "metadata": {},
   "outputs": [
    {
     "name": "stdout",
     "output_type": "stream",
     "text": [
      "[(0, 1), (0, 2), (0, 3), (0, 4), (0, 5), (1, 2), (1, 3), (1, 4), (1, 5), (2, 3), (2, 4), (2, 5), (3, 4), (3, 5), (4, 5)]\n"
     ]
    }
   ],
   "source": [
    "from itertools import combinations\n",
    "n = 5\n",
    "\n",
    "pairs = list(combinations(range(n + 1), 2))\n",
    "print(pairs)"
   ]
  },
  {
   "cell_type": "code",
   "execution_count": null,
   "id": "8b5c0600",
   "metadata": {},
   "outputs": [],
   "source": []
  }
 ],
 "metadata": {
  "kernelspec": {
   "display_name": "network",
   "language": "python",
   "name": "python3"
  },
  "language_info": {
   "codemirror_mode": {
    "name": "ipython",
    "version": 3
   },
   "file_extension": ".py",
   "mimetype": "text/x-python",
   "name": "python",
   "nbconvert_exporter": "python",
   "pygments_lexer": "ipython3",
   "version": "3.10.18"
  }
 },
 "nbformat": 4,
 "nbformat_minor": 5
}

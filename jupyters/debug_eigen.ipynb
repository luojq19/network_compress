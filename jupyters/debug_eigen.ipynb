{
 "cells": [
  {
   "cell_type": "code",
   "execution_count": 5,
   "id": "e8755ad2",
   "metadata": {},
   "outputs": [],
   "source": [
    "from scipy.sparse.linalg import eigs\n",
    "import numpy as np\n",
    "\n",
    "data = np.load('../data/treeoflife.interactomes.max_cc_adj/7260.npz')\n",
    "adj = data['adj']\n",
    "degrees = np.sum(adj, axis=1, keepdims=True)\n",
    "trans_matrix = adj / degrees\n",
    "vals, vecs = eigs(trans_matrix, k=1, which='LR')"
   ]
  },
  {
   "cell_type": "code",
   "execution_count": 6,
   "id": "62feeaea",
   "metadata": {},
   "outputs": [
    {
     "data": {
      "text/plain": [
       "array([1.+0.j])"
      ]
     },
     "execution_count": 6,
     "metadata": {},
     "output_type": "execute_result"
    }
   ],
   "source": [
    "vals"
   ]
  },
  {
   "cell_type": "code",
   "execution_count": 7,
   "id": "6a3a55cf",
   "metadata": {},
   "outputs": [
    {
     "data": {
      "text/plain": [
       "array([[-0.02704679+0.j],\n",
       "       [-0.02704679+0.j],\n",
       "       [-0.02704679+0.j],\n",
       "       ...,\n",
       "       [-0.02704679+0.j],\n",
       "       [-0.02704679+0.j],\n",
       "       [-0.02704679+0.j]], shape=(1367, 1))"
      ]
     },
     "execution_count": 7,
     "metadata": {},
     "output_type": "execute_result"
    }
   ],
   "source": [
    "vecs"
   ]
  },
  {
   "cell_type": "code",
   "execution_count": null,
   "id": "5ea14ffb",
   "metadata": {},
   "outputs": [],
   "source": []
  }
 ],
 "metadata": {
  "kernelspec": {
   "display_name": "network",
   "language": "python",
   "name": "python3"
  },
  "language_info": {
   "codemirror_mode": {
    "name": "ipython",
    "version": 3
   },
   "file_extension": ".py",
   "mimetype": "text/x-python",
   "name": "python",
   "nbconvert_exporter": "python",
   "pygments_lexer": "ipython3",
   "version": "3.10.18"
  }
 },
 "nbformat": 4,
 "nbformat_minor": 5
}

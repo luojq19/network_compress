{
 "cells": [
  {
   "cell_type": "markdown",
   "id": "e9ab2773",
   "metadata": {},
   "source": [
    "This notebook is used to extract the max connected component of each interactome graph in `treeoflife.interactomes`."
   ]
  },
  {
   "cell_type": "code",
   "execution_count": 5,
   "id": "e88029ec",
   "metadata": {},
   "outputs": [
    {
     "name": "stdout",
     "output_type": "stream",
     "text": [
      "Found 1840 interactome files.\n"
     ]
    },
    {
     "data": {
      "application/vnd.jupyter.widget-view+json": {
       "model_id": "06792d4b02c5429091e8b578975f1ab3",
       "version_major": 2,
       "version_minor": 0
      },
      "text/plain": [
       "  0%|          | 0/1840 [00:00<?, ?it/s]"
      ]
     },
     "metadata": {},
     "output_type": "display_data"
    }
   ],
   "source": [
    "import os\n",
    "import numpy as np\n",
    "from tqdm.auto import tqdm\n",
    "import networkx as nx\n",
    "\n",
    "def get_max_cc_edgelist(in_path: str, out_path: str) -> None:\n",
    "    G = nx.read_edgelist(in_path, comments=\"#\", nodetype=str, data=False)\n",
    "    if G.number_of_nodes() == 0:\n",
    "        open(out_path, \"w\").close()\n",
    "        return\n",
    "    # largest connected component by size\n",
    "    cc_nodes = max(nx.connected_components(G), key=len)\n",
    "    H = G.subgraph(cc_nodes).copy()\n",
    "    nx.write_edgelist(H, out_path, data=False)\n",
    "\n",
    "    return H.number_of_nodes(), H.number_of_edges()\n",
    "\n",
    "txt_dir = '../data/treeoflife.interactomes'\n",
    "save_dir = '../data/treeoflife.interactomes_max_cc'\n",
    "interactome_list = []\n",
    "for file in os.listdir(txt_dir):\n",
    "    if file.endswith('.txt'):\n",
    "        interactome_list.append(file)\n",
    "print(f'Found {len(interactome_list)} interactome files.')\n",
    "os.makedirs(save_dir, exist_ok=True)\n",
    "for interactome in tqdm(interactome_list):\n",
    "    in_path = os.path.join(txt_dir, interactome)\n",
    "    out_path = os.path.join(save_dir, interactome)\n",
    "    num_nodes, num_edges = get_max_cc_edgelist(in_path, out_path)\n",
    "    # print(f'Processed {interactome}: {num_nodes} nodes, {num_edges} edges.')"
   ]
  },
  {
   "cell_type": "code",
   "execution_count": null,
   "id": "8b50fbd8",
   "metadata": {},
   "outputs": [],
   "source": []
  }
 ],
 "metadata": {
  "kernelspec": {
   "display_name": "network",
   "language": "python",
   "name": "python3"
  },
  "language_info": {
   "codemirror_mode": {
    "name": "ipython",
    "version": 3
   },
   "file_extension": ".py",
   "mimetype": "text/x-python",
   "name": "python",
   "nbconvert_exporter": "python",
   "pygments_lexer": "ipython3",
   "version": "3.10.18"
  }
 },
 "nbformat": 4,
 "nbformat_minor": 5
}
